{
  "cells": [
    {
      "cell_type": "markdown",
      "metadata": {
        "id": "plVlmOIBD50O"
      },
      "source": [
        "# Preporcessing"
      ]
    },
    {
      "cell_type": "code",
      "execution_count": null,
      "metadata": {
        "colab": {
          "base_uri": "https://localhost:8080/"
        },
        "id": "rnkdtxM59lHq",
        "outputId": "5819b88a-7344-4969-c35f-65536ab625e7"
      },
      "outputs": [
        {
          "output_type": "stream",
          "name": "stdout",
          "text": [
            "Mounted at /content/drive/\n"
          ]
        }
      ],
      "source": [
        "from google.colab import drive\n",
        "drive.mount('/content/drive/')"
      ]
    },
    {
      "cell_type": "code",
      "source": [
        "import warnings\n",
        "warnings.filterwarnings('ignore')"
      ],
      "metadata": {
        "id": "aEvIUiuGtuWu"
      },
      "execution_count": null,
      "outputs": []
    },
    {
      "cell_type": "code",
      "execution_count": null,
      "metadata": {
        "id": "aNTngkBM3I4S"
      },
      "outputs": [],
      "source": [
        "import sqlite3 as sql\n",
        "import pandas as pd\n",
        "import numpy as np"
      ]
    },
    {
      "cell_type": "code",
      "execution_count": null,
      "metadata": {
        "id": "UxRNMIQV3I4Y"
      },
      "outputs": [],
      "source": [
        "from sklearn.preprocessing import StandardScaler"
      ]
    },
    {
      "cell_type": "code",
      "execution_count": null,
      "metadata": {
        "id": "6FxExuyHL2rU"
      },
      "outputs": [],
      "source": [
        "from sklearn.preprocessing import MinMaxScaler"
      ]
    },
    {
      "cell_type": "markdown",
      "metadata": {
        "id": "eGTMbirr3I4b"
      },
      "source": [
        "## Database Connection"
      ]
    },
    {
      "cell_type": "code",
      "execution_count": null,
      "metadata": {
        "id": "7ZV3bSNq3I4d"
      },
      "outputs": [],
      "source": [
        "con = sql.connect('/content/drive/MyDrive/NN_Praktikum/data/database.sqlite') # need to change path to database"
      ]
    },
    {
      "cell_type": "code",
      "execution_count": null,
      "metadata": {
        "colab": {
          "base_uri": "https://localhost:8080/",
          "height": 483
        },
        "id": "sH0uESjq3I4f",
        "outputId": "1c2b3eeb-0745-47e0-a982-f284f0724a41"
      },
      "outputs": [
        {
          "output_type": "execute_result",
          "data": {
            "text/html": [
              "\n",
              "  <div id=\"df-1fabf492-2eb3-4598-8240-4270eefc5845\">\n",
              "    <div class=\"colab-df-container\">\n",
              "      <div>\n",
              "<style scoped>\n",
              "    .dataframe tbody tr th:only-of-type {\n",
              "        vertical-align: middle;\n",
              "    }\n",
              "\n",
              "    .dataframe tbody tr th {\n",
              "        vertical-align: top;\n",
              "    }\n",
              "\n",
              "    .dataframe thead th {\n",
              "        text-align: right;\n",
              "    }\n",
              "</style>\n",
              "<table border=\"1\" class=\"dataframe\">\n",
              "  <thead>\n",
              "    <tr style=\"text-align: right;\">\n",
              "      <th></th>\n",
              "      <th>type</th>\n",
              "      <th>name</th>\n",
              "      <th>tbl_name</th>\n",
              "      <th>rootpage</th>\n",
              "      <th>sql</th>\n",
              "    </tr>\n",
              "  </thead>\n",
              "  <tbody>\n",
              "    <tr>\n",
              "      <th>0</th>\n",
              "      <td>table</td>\n",
              "      <td>sqlite_sequence</td>\n",
              "      <td>sqlite_sequence</td>\n",
              "      <td>4</td>\n",
              "      <td>CREATE TABLE sqlite_sequence(name,seq)</td>\n",
              "    </tr>\n",
              "    <tr>\n",
              "      <th>1</th>\n",
              "      <td>table</td>\n",
              "      <td>Player_Attributes</td>\n",
              "      <td>Player_Attributes</td>\n",
              "      <td>11</td>\n",
              "      <td>CREATE TABLE \"Player_Attributes\" (\\n\\t`id`\\tIN...</td>\n",
              "    </tr>\n",
              "    <tr>\n",
              "      <th>2</th>\n",
              "      <td>table</td>\n",
              "      <td>Player</td>\n",
              "      <td>Player</td>\n",
              "      <td>14</td>\n",
              "      <td>CREATE TABLE `Player` (\\n\\t`id`\\tINTEGER PRIMA...</td>\n",
              "    </tr>\n",
              "    <tr>\n",
              "      <th>3</th>\n",
              "      <td>table</td>\n",
              "      <td>Match</td>\n",
              "      <td>Match</td>\n",
              "      <td>18</td>\n",
              "      <td>CREATE TABLE `Match` (\\n\\t`id`\\tINTEGER PRIMAR...</td>\n",
              "    </tr>\n",
              "    <tr>\n",
              "      <th>4</th>\n",
              "      <td>table</td>\n",
              "      <td>League</td>\n",
              "      <td>League</td>\n",
              "      <td>24</td>\n",
              "      <td>CREATE TABLE `League` (\\n\\t`id`\\tINTEGER PRIMA...</td>\n",
              "    </tr>\n",
              "    <tr>\n",
              "      <th>5</th>\n",
              "      <td>table</td>\n",
              "      <td>Country</td>\n",
              "      <td>Country</td>\n",
              "      <td>26</td>\n",
              "      <td>CREATE TABLE `Country` (\\n\\t`id`\\tINTEGER PRIM...</td>\n",
              "    </tr>\n",
              "    <tr>\n",
              "      <th>6</th>\n",
              "      <td>table</td>\n",
              "      <td>Team</td>\n",
              "      <td>Team</td>\n",
              "      <td>29</td>\n",
              "      <td>CREATE TABLE \"Team\" (\\n\\t`id`\\tINTEGER PRIMARY...</td>\n",
              "    </tr>\n",
              "    <tr>\n",
              "      <th>7</th>\n",
              "      <td>table</td>\n",
              "      <td>Team_Attributes</td>\n",
              "      <td>Team_Attributes</td>\n",
              "      <td>2</td>\n",
              "      <td>CREATE TABLE `Team_Attributes` (\\n\\t`id`\\tINTE...</td>\n",
              "    </tr>\n",
              "  </tbody>\n",
              "</table>\n",
              "</div>\n",
              "      <button class=\"colab-df-convert\" onclick=\"convertToInteractive('df-1fabf492-2eb3-4598-8240-4270eefc5845')\"\n",
              "              title=\"Convert this dataframe to an interactive table.\"\n",
              "              style=\"display:none;\">\n",
              "        \n",
              "  <svg xmlns=\"http://www.w3.org/2000/svg\" height=\"24px\"viewBox=\"0 0 24 24\"\n",
              "       width=\"24px\">\n",
              "    <path d=\"M0 0h24v24H0V0z\" fill=\"none\"/>\n",
              "    <path d=\"M18.56 5.44l.94 2.06.94-2.06 2.06-.94-2.06-.94-.94-2.06-.94 2.06-2.06.94zm-11 1L8.5 8.5l.94-2.06 2.06-.94-2.06-.94L8.5 2.5l-.94 2.06-2.06.94zm10 10l.94 2.06.94-2.06 2.06-.94-2.06-.94-.94-2.06-.94 2.06-2.06.94z\"/><path d=\"M17.41 7.96l-1.37-1.37c-.4-.4-.92-.59-1.43-.59-.52 0-1.04.2-1.43.59L10.3 9.45l-7.72 7.72c-.78.78-.78 2.05 0 2.83L4 21.41c.39.39.9.59 1.41.59.51 0 1.02-.2 1.41-.59l7.78-7.78 2.81-2.81c.8-.78.8-2.07 0-2.86zM5.41 20L4 18.59l7.72-7.72 1.47 1.35L5.41 20z\"/>\n",
              "  </svg>\n",
              "      </button>\n",
              "      \n",
              "  <style>\n",
              "    .colab-df-container {\n",
              "      display:flex;\n",
              "      flex-wrap:wrap;\n",
              "      gap: 12px;\n",
              "    }\n",
              "\n",
              "    .colab-df-convert {\n",
              "      background-color: #E8F0FE;\n",
              "      border: none;\n",
              "      border-radius: 50%;\n",
              "      cursor: pointer;\n",
              "      display: none;\n",
              "      fill: #1967D2;\n",
              "      height: 32px;\n",
              "      padding: 0 0 0 0;\n",
              "      width: 32px;\n",
              "    }\n",
              "\n",
              "    .colab-df-convert:hover {\n",
              "      background-color: #E2EBFA;\n",
              "      box-shadow: 0px 1px 2px rgba(60, 64, 67, 0.3), 0px 1px 3px 1px rgba(60, 64, 67, 0.15);\n",
              "      fill: #174EA6;\n",
              "    }\n",
              "\n",
              "    [theme=dark] .colab-df-convert {\n",
              "      background-color: #3B4455;\n",
              "      fill: #D2E3FC;\n",
              "    }\n",
              "\n",
              "    [theme=dark] .colab-df-convert:hover {\n",
              "      background-color: #434B5C;\n",
              "      box-shadow: 0px 1px 3px 1px rgba(0, 0, 0, 0.15);\n",
              "      filter: drop-shadow(0px 1px 2px rgba(0, 0, 0, 0.3));\n",
              "      fill: #FFFFFF;\n",
              "    }\n",
              "  </style>\n",
              "\n",
              "      <script>\n",
              "        const buttonEl =\n",
              "          document.querySelector('#df-1fabf492-2eb3-4598-8240-4270eefc5845 button.colab-df-convert');\n",
              "        buttonEl.style.display =\n",
              "          google.colab.kernel.accessAllowed ? 'block' : 'none';\n",
              "\n",
              "        async function convertToInteractive(key) {\n",
              "          const element = document.querySelector('#df-1fabf492-2eb3-4598-8240-4270eefc5845');\n",
              "          const dataTable =\n",
              "            await google.colab.kernel.invokeFunction('convertToInteractive',\n",
              "                                                     [key], {});\n",
              "          if (!dataTable) return;\n",
              "\n",
              "          const docLinkHtml = 'Like what you see? Visit the ' +\n",
              "            '<a target=\"_blank\" href=https://colab.research.google.com/notebooks/data_table.ipynb>data table notebook</a>'\n",
              "            + ' to learn more about interactive tables.';\n",
              "          element.innerHTML = '';\n",
              "          dataTable['output_type'] = 'display_data';\n",
              "          await google.colab.output.renderOutput(dataTable, element);\n",
              "          const docLink = document.createElement('div');\n",
              "          docLink.innerHTML = docLinkHtml;\n",
              "          element.appendChild(docLink);\n",
              "        }\n",
              "      </script>\n",
              "    </div>\n",
              "  </div>\n",
              "  "
            ],
            "text/plain": [
              "    type  ...                                                sql\n",
              "0  table  ...             CREATE TABLE sqlite_sequence(name,seq)\n",
              "1  table  ...  CREATE TABLE \"Player_Attributes\" (\\n\\t`id`\\tIN...\n",
              "2  table  ...  CREATE TABLE `Player` (\\n\\t`id`\\tINTEGER PRIMA...\n",
              "3  table  ...  CREATE TABLE `Match` (\\n\\t`id`\\tINTEGER PRIMAR...\n",
              "4  table  ...  CREATE TABLE `League` (\\n\\t`id`\\tINTEGER PRIMA...\n",
              "5  table  ...  CREATE TABLE `Country` (\\n\\t`id`\\tINTEGER PRIM...\n",
              "6  table  ...  CREATE TABLE \"Team\" (\\n\\t`id`\\tINTEGER PRIMARY...\n",
              "7  table  ...  CREATE TABLE `Team_Attributes` (\\n\\t`id`\\tINTE...\n",
              "\n",
              "[8 rows x 5 columns]"
            ]
          },
          "metadata": {},
          "execution_count": 11
        }
      ],
      "source": [
        "tables = pd.read_sql(\"\"\"SELECT *\n",
        "                        FROM sqlite_master\n",
        "                        WHERE type='table';\"\"\", con)\n",
        "tables"
      ]
    },
    {
      "cell_type": "code",
      "execution_count": null,
      "metadata": {
        "id": "_ocWsjtx3I4m"
      },
      "outputs": [],
      "source": [
        "player_attributes = pd.read_sql(\"SELECT * FROM Player_Attributes;\", con)\n",
        "player = pd.read_sql(\"SELECT * FROM Player;\", con)\n",
        "matches = pd.read_sql(\"SELECT * FROM Match;\", con)\n",
        "league = pd.read_sql(\"SELECT * FROM League;\", con)\n",
        "country = pd.read_sql(\"SELECT * FROM Country;\", con)\n",
        "team = pd.read_sql(\"SELECT * FROM Team;\", con)\n",
        "team_attributes = pd.read_sql(\"SELECT * FROM Team_Attributes;\", con)"
      ]
    },
    {
      "cell_type": "code",
      "execution_count": null,
      "metadata": {
        "id": "k8gdvxeTQd4b"
      },
      "outputs": [],
      "source": [
        "matches = matches.sort_values(by = 'date', ascending = True)"
      ]
    },
    {
      "cell_type": "markdown",
      "metadata": {
        "id": "-remKCsE3I4q"
      },
      "source": [
        "## Data Analysis"
      ]
    },
    {
      "cell_type": "markdown",
      "metadata": {
        "id": "DQnEeJmd3I4s"
      },
      "source": [
        "### Scaler"
      ]
    },
    {
      "cell_type": "code",
      "execution_count": null,
      "metadata": {
        "id": "knVon0iN3I4v"
      },
      "outputs": [],
      "source": [
        "std_scaler = StandardScaler()"
      ]
    },
    {
      "cell_type": "code",
      "execution_count": null,
      "metadata": {
        "id": "k7W79l3hMJK2"
      },
      "outputs": [],
      "source": [
        "minmax_scaler = MinMaxScaler() "
      ]
    },
    {
      "cell_type": "markdown",
      "metadata": {
        "id": "QVsZulBF3I4y"
      },
      "source": [
        "## Match Labels"
      ]
    },
    {
      "cell_type": "code",
      "execution_count": null,
      "metadata": {
        "id": "V2V9hIf03I40"
      },
      "outputs": [],
      "source": [
        "def get_match_label(match):\n",
        "    home_goals = match['home_team_goal']\n",
        "    away_goals = match['away_team_goal']\n",
        "     \n",
        "    label = pd.Series(0, index=['Home_Win', 'Draw', 'Away_Win']) \n",
        "\n",
        "    if home_goals > away_goals:\n",
        "        label.loc['Home_Win'] = 1\n",
        "    if home_goals == away_goals:\n",
        "        label.loc['Draw'] = 1\n",
        "    if home_goals < away_goals:\n",
        "        label.loc['Away_Win'] = 1\n",
        "        \n",
        "    return label.to_frame().T"
      ]
    },
    {
      "cell_type": "markdown",
      "metadata": {
        "id": "pZdKMYA83I43"
      },
      "source": [
        "## Fifa Statistics"
      ]
    },
    {
      "cell_type": "code",
      "execution_count": null,
      "metadata": {
        "id": "FEm8M4UP3I44"
      },
      "outputs": [],
      "source": [
        "home_players = ['home_player_1', 'home_player_2', 'home_player_3', 'home_player_4', \n",
        "                'home_player_5', 'home_player_6', 'home_player_7', 'home_player_8', \n",
        "                'home_player_9', 'home_player_10','home_player_11']\n",
        "away_players = ['away_player_1', 'away_player_2', 'away_player_3', 'away_player_4',\n",
        "                'away_player_5', 'away_player_6', 'away_player_7', 'away_player_8', \n",
        "                'away_player_9', 'away_player_10', 'away_player_11']"
      ]
    },
    {
      "cell_type": "markdown",
      "metadata": {
        "id": "5bCAvgBF3I46"
      },
      "source": [
        "Aggregation of the fifa statistics for a given match:"
      ]
    },
    {
      "cell_type": "code",
      "execution_count": null,
      "metadata": {
        "id": "jCwp5Qyd3I47"
      },
      "outputs": [],
      "source": [
        "def get_fifa_statistics(match, player_attributes):\n",
        "    match_id =  match['match_api_id']\n",
        "    date = match['date']\n",
        "    home_player_curr_stats = pd.DataFrame()\n",
        "    away_player_curr_stats = pd.DataFrame()\n",
        "    home_overall_rating = pd.DataFrame()\n",
        "    away_overall_rating = pd.DataFrame()\n",
        "    overall_rating = pd.DataFrame()\n",
        "    \n",
        "    for home_player, away_player in zip(home_players, away_players):\n",
        "        home_player_id = match[home_player]\n",
        "        away_player_id = match[away_player]\n",
        "        \n",
        "        if np.isnan(home_player_id) == True:\n",
        "            home_player_curr_stats['overall_rating'] = pd.Series(0)\n",
        "        else:\n",
        "            home_palyer_stats = player_attributes[player_attributes.player_api_id == home_player_id]\n",
        "            home_player_curr_stats = home_palyer_stats[home_palyer_stats.date < date].sort_values(by = 'date', ascending = False)[:1]\n",
        "            home_player_curr_stats.reset_index(inplace = True, drop = True)\n",
        "        \n",
        "        if np.isnan(away_player_id) == True:\n",
        "            away_player_curr_stats['overall_rating'] = pd.Series(0)\n",
        "        else:\n",
        "            away_palyer_stats = player_attributes[player_attributes.player_api_id == away_player_id]\n",
        "            away_player_curr_stats = away_palyer_stats[away_palyer_stats.date < date].sort_values(by = 'date', ascending = False)[:1]\n",
        "            away_player_curr_stats.reset_index(inplace = True, drop = True)\n",
        "        \n",
        "        home_overall_rating = pd.concat([home_overall_rating, pd.Series(home_player_curr_stats['overall_rating'])], axis=1)\n",
        "        away_overall_rating = pd.concat([away_overall_rating, pd.Series(away_player_curr_stats['overall_rating'])], axis=1)\n",
        "    \n",
        "    overall_rating['home_overall_rating'] = home_overall_rating.sum(axis=1)\n",
        "    overall_rating['away_overall_rating'] = away_overall_rating.sum(axis=1)\n",
        "    \n",
        "    return overall_rating"
      ]
    },
    {
      "cell_type": "markdown",
      "metadata": {
        "id": "jDD1_HPZ3I4-"
      },
      "source": [
        "## Last Matches"
      ]
    },
    {
      "cell_type": "markdown",
      "metadata": {
        "id": "f74je8o43I4_"
      },
      "source": [
        "Get last n matches of a given team:"
      ]
    },
    {
      "cell_type": "code",
      "execution_count": null,
      "metadata": {
        "id": "K99UACJX3I5A"
      },
      "outputs": [],
      "source": [
        "def get_last_matches(matches, date, team, n=5):\n",
        "    team_matches = matches[(matches['home_team_api_id'] == team) | \n",
        "                           (matches['away_team_api_id'] == team)]\n",
        "    last_matches = team_matches[team_matches.date < date].sort_values(by = 'date', ascending = False).iloc[0:n,:]\n",
        "    return last_matches"
      ]
    },
    {
      "cell_type": "markdown",
      "metadata": {
        "id": "HBAWvN3F3I5D"
      },
      "source": [
        "Get last n matches __against each other__:"
      ]
    },
    {
      "cell_type": "code",
      "execution_count": null,
      "metadata": {
        "id": "A6sAXThQ3I5F"
      },
      "outputs": [],
      "source": [
        "def get_last_matches_against_eachother(matches, date, home_team, away_team, n=5):\n",
        "    home_matches = matches[(matches['home_team_api_id'] == home_team) & (matches['away_team_api_id'] == away_team)]    \n",
        "    away_matches = matches[(matches['home_team_api_id'] == away_team) & (matches['away_team_api_id'] == home_team)]  \n",
        "    all_matches = pd.concat([home_matches, away_matches])\n",
        "    \n",
        "    try:    \n",
        "        last_matches = all_matches[all_matches.date < date].sort_values(by = 'date', ascending = False).iloc[0:n,:]\n",
        "    except:\n",
        "        last_matches = all_matches[all_matches.date < date].sort_values(by = 'date', ascending = False).iloc[0:all_matches.shape[0],:]\n",
        "    \n",
        "    return last_matches"
      ]
    },
    {
      "cell_type": "markdown",
      "metadata": {
        "id": "gR7XeFJY3I5G"
      },
      "source": [
        "## Wins, Draws, Defeats and Goals"
      ]
    },
    {
      "cell_type": "markdown",
      "metadata": {
        "id": "pEF8YZdp3I5H"
      },
      "source": [
        "Get the number of __wins__ of a given team from a set of matches:"
      ]
    },
    {
      "cell_type": "code",
      "execution_count": null,
      "metadata": {
        "id": "UtZk0NJI3I5J"
      },
      "outputs": [],
      "source": [
        "def get_wins(matches, team, info:str):\n",
        "    home_wins = int(matches.home_team_goal[(matches.home_team_api_id == team) & (matches.home_team_goal > matches.away_team_goal)].count())\n",
        "    away_wins = int(matches.away_team_goal[(matches.away_team_api_id == team) & (matches.away_team_goal > matches.home_team_goal)].count())\n",
        "\n",
        "    total_wins = home_wins + away_wins\n",
        "\n",
        "    return pd.Series(total_wins, name=info)     "
      ]
    },
    {
      "cell_type": "markdown",
      "metadata": {
        "id": "jXmdYWkT3I5K"
      },
      "source": [
        "Get the number of __draws__ of a given team from a set of matches:"
      ]
    },
    {
      "cell_type": "code",
      "execution_count": null,
      "metadata": {
        "id": "UcJlVD3Q3I5L"
      },
      "outputs": [],
      "source": [
        "def get_draws(matches, team, info:str):\n",
        "    home_draws = int(matches.home_team_goal[(matches.home_team_api_id == team) & (matches.home_team_goal == matches.away_team_goal)].count())\n",
        "    away_draws = int(matches.away_team_goal[(matches.away_team_api_id == team) & (matches.away_team_goal == matches.home_team_goal)].count())\n",
        "\n",
        "    total_draws = home_draws + away_draws\n",
        "\n",
        "    return pd.Series(total_draws, name=info)   "
      ]
    },
    {
      "cell_type": "markdown",
      "metadata": {
        "id": "eqKHCxCk3I5N"
      },
      "source": [
        "Get the number of __defeats__ of a given team from a set of matches:"
      ]
    },
    {
      "cell_type": "code",
      "execution_count": null,
      "metadata": {
        "id": "sugRzgmp3I5P"
      },
      "outputs": [],
      "source": [
        "def get_defeats(matches, team, info:str):\n",
        "    home_defeats = int(matches.home_team_goal[(matches.home_team_api_id == team) & (matches.home_team_goal < matches.away_team_goal)].count())\n",
        "    away_defeats = int(matches.away_team_goal[(matches.away_team_api_id == team) & (matches.away_team_goal < matches.home_team_goal)].count())\n",
        "\n",
        "    total_defeats = home_defeats + away_defeats\n",
        "\n",
        "    return pd.Series(total_defeats, name=info)     "
      ]
    },
    {
      "cell_type": "markdown",
      "metadata": {
        "id": "YpyCHVd33I5Q"
      },
      "source": [
        "Get the __goals difference__ of a given team from a set of matches:"
      ]
    },
    {
      "cell_type": "code",
      "execution_count": null,
      "metadata": {
        "id": "nTxrnTCP3I5R"
      },
      "outputs": [],
      "source": [
        "def get_goals_diff(matches, team, info:str):\n",
        "    home_goals = int(matches.home_team_goal[matches.home_team_api_id == team].sum())\n",
        "    away_goals = int(matches.away_team_goal[matches.away_team_api_id == team].sum())\n",
        "\n",
        "    total_goals = home_goals + away_goals\n",
        "    \n",
        "    home_goals_rec = int(matches.home_team_goal[matches.away_team_api_id == team].sum())\n",
        "    away_goals_rec = int(matches.away_team_goal[matches.home_team_api_id == team].sum())\n",
        "    \n",
        "    total_goals -= (home_goals_rec + away_goals_rec)\n",
        "    \n",
        "    return pd.Series(total_goals, name=info)"
      ]
    },
    {
      "cell_type": "markdown",
      "metadata": {
        "id": "c05oqaoj3I5S"
      },
      "source": [
        "## Bet Statistics"
      ]
    },
    {
      "cell_type": "code",
      "execution_count": null,
      "metadata": {
        "id": "sTQlLnMP3I5T"
      },
      "outputs": [],
      "source": [
        "def get_bet_statistics(match):\n",
        "    bet_statistics_home_cat = ['B365H', 'BWH', 'IWH', 'LBH', 'PSH', 'WHH', 'SJH', 'VCH', 'GBH', 'BSH']\n",
        "    bet_statistics_draw_cat = ['B365D', 'BWD', 'IWD', 'LBD', 'PSD', 'WHD', 'SJD', 'VCD', 'GBD', 'BSD']\n",
        "    bet_statistics_away_cat = ['B365A', 'BWA', 'IWA', 'LBA', 'PSA', 'WHA', 'SJA', 'VCA', 'GBA', 'BSA']\n",
        "    \n",
        "    bet_statistics_home = match[bet_statistics_home_cat]\n",
        "    bet_statistics_draw = match[bet_statistics_draw_cat]\n",
        "    bet_statistics_away = match[bet_statistics_away_cat]\n",
        "    \n",
        "    bet_statistics_home.fillna(0, inplace=True)\n",
        "    bet_statistics_draw.fillna(0, inplace=True)\n",
        "    bet_statistics_away.fillna(0, inplace=True)\n",
        "    \n",
        "    bet_statistics_home = pd.Series(bet_statistics_home.sum(), name='bet_statistics_home')\n",
        "    bet_statistics_draw = pd.Series(bet_statistics_draw.sum(), name='bet_statistics_draw')\n",
        "    bet_statistics_away = pd.Series(bet_statistics_away.sum(), name='bet_statistics_away')\n",
        "    \n",
        "    return pd.concat([bet_statistics_home, bet_statistics_draw, bet_statistics_away], axis=1)"
      ]
    },
    {
      "cell_type": "markdown",
      "metadata": {
        "id": "DTsu9YRk3I5U"
      },
      "source": [
        "## Match Statistics"
      ]
    },
    {
      "cell_type": "code",
      "execution_count": null,
      "metadata": {
        "id": "0FaHECrU165Q"
      },
      "outputs": [],
      "source": [
        "def get_match_statistics(match, player_attributes):\n",
        "    # home and away team statistics\n",
        "    teams_statistics = get_fifa_statistics(match, player_attributes)\n",
        "    \n",
        "    # match bet statistics\n",
        "    match_bet_statistics = get_bet_statistics(match)\n",
        "    \n",
        "    # match label\n",
        "    label = get_match_label(match)\n",
        "\n",
        "    match_statistics = pd.DataFrame()\n",
        "\n",
        "    home_team_api_id = match['home_team_api_id']\n",
        "    away_team_api_id = match['away_team_api_id']\n",
        "    date = match['date']\n",
        "\n",
        "    match_statistics.insert(0, 'home_team_api_id', [home_team_api_id], True) \n",
        "    match_statistics.insert(1, 'away_team_api_id', [away_team_api_id], True)\n",
        "    match_statistics.insert(2, 'date', [date], True) \n",
        "    \n",
        "    match_statistics = pd.concat([match_statistics,\n",
        "                                  teams_statistics,\n",
        "                                  match_bet_statistics,\n",
        "                                  label],\n",
        "                                  axis=1)\n",
        "    return match_statistics"
      ]
    },
    {
      "cell_type": "code",
      "execution_count": null,
      "metadata": {
        "id": "kQ4Yr_gx3I5U"
      },
      "outputs": [],
      "source": [
        "def get_match_statistics_with_last_games(match, matches, player_attributes, n=5):\n",
        "    match_id = match['match_api_id']\n",
        "    date = match['date']\n",
        "    home_team = match['home_team_api_id']\n",
        "    away_team = match['away_team_api_id']\n",
        "    \n",
        "    # home and away team statistics\n",
        "    teams_statistics = get_fifa_statistics(match, player_attributes)\n",
        "    \n",
        "    # match statisitcs of home team n last games\n",
        "    last_matches_home = get_last_matches(matches, date, home_team, n)\n",
        "    \n",
        "    home_team_wins = get_wins(last_matches_home, home_team, 'home_team_wins')\n",
        "    home_team_draws = get_draws(last_matches_home, home_team, 'home_team_draws')\n",
        "    home_team_defeats = get_defeats(last_matches_home, home_team, 'home_team_defeats')\n",
        "    home_team_goals_diff = get_goals_diff(last_matches_home, home_team, 'home_team_goals_diff')\n",
        "    \n",
        "    # match statisitcs of away team n last games\n",
        "    last_matches_away = get_last_matches(matches, date, away_team, n)\n",
        "    \n",
        "    away_team_wins = get_wins(last_matches_away, away_team, 'away_team_wins')\n",
        "    away_team_draws = get_draws(last_matches_away, away_team, 'away_team_draws')\n",
        "    away_team_defeats = get_defeats(last_matches_away, away_team, 'away_team_defeats')\n",
        "    away_team_goals_diff = get_goals_diff(last_matches_away, away_team, 'away_team_goals_diff')\n",
        "    \n",
        "    # match statistics of last n matches against eachother \n",
        "    last_matches_against_eachother = get_last_matches_against_eachother(matches, date, home_team, away_team, n)\n",
        "    \n",
        "    home_team_wins_against_eachother = get_wins(last_matches_against_eachother, home_team , 'home_team_wins_against_eachother')\n",
        "    away_team_wins_against_eachother = get_wins(last_matches_against_eachother, away_team, 'away_team_wins_against_eachother')\n",
        "    draws_against_eachother = get_draws(last_matches_against_eachother, home_team, 'draws_against_eachother')\n",
        "    \n",
        "    home_team_goals_diff_agains_eachother = get_goals_diff(last_matches_against_eachother, home_team, 'home_team_goals_diff_agains_eachother')\n",
        "    away_team_goals_diff_agains_eachother = get_goals_diff(last_matches_against_eachother, away_team, 'away_team_goals_diff_agains_eachother')\n",
        "    \n",
        "    # match bet statistics\n",
        "    match_bet_statistics = get_bet_statistics(match)\n",
        "    \n",
        "    # match label\n",
        "    label = get_match_label(match)\n",
        "    \n",
        "    match_statistics_with_last_games = pd.concat([teams_statistics,  \n",
        "                                  home_team_wins, home_team_draws, home_team_defeats, home_team_goals_diff,\n",
        "                                  away_team_wins, away_team_draws, away_team_defeats, away_team_goals_diff,\n",
        "                                  home_team_wins_against_eachother, home_team_goals_diff_agains_eachother,\n",
        "                                  draws_against_eachother,\n",
        "                                  away_team_wins_against_eachother, away_team_goals_diff_agains_eachother,\n",
        "                                  match_bet_statistics,\n",
        "                                  label],\n",
        "                                  axis=1)\n",
        "    return match_statistics_with_last_games"
      ]
    },
    {
      "cell_type": "code",
      "source": [
        "def get_match_statistics_against_eachother(match, player_attributes):\n",
        "    # home and away team statistics\n",
        "    teams_statistics = get_fifa_statistics(match, player_attributes)\n",
        "    \n",
        "    # match bet statistics\n",
        "    match_bet_statistics = get_bet_statistics(match)\n",
        "    \n",
        "    # match label\n",
        "    label = get_match_label(match)\n",
        "    \n",
        "    match_statistics = pd.concat([teams_statistics,\n",
        "                                  match_bet_statistics,\n",
        "                                  label],\n",
        "                                  axis=1)\n",
        "    return match_statistics"
      ],
      "metadata": {
        "id": "f-koCXNtgVv-"
      },
      "execution_count": null,
      "outputs": []
    },
    {
      "cell_type": "code",
      "execution_count": null,
      "metadata": {
        "id": "E5nU0dUVGcrP"
      },
      "outputs": [],
      "source": [
        "def get_match_statistics_last_games_against_eachother(matches, date, home_team, away_team, player_attributes, n=5):\n",
        "  columns = ['home_overall_rating', 'away_overall_rating', 'bet_statistics_home', 'bet_statistics_draw', 'bet_statistics_away', 'Home_Win', 'Draw', 'Away_Win']\n",
        "  columns_rev = ['away_overall_rating', 'home_overall_rating', 'bet_statistics_away', 'bet_statistics_draw', 'bet_statistics_home', 'Away_Win', 'Draw', 'Home_Win']\n",
        "  label_columns = ['Home_Win', 'Draw', 'Away_Win']\n",
        "  categories = ['home_team_api_id', 'away_team_api_id', 'date']\n",
        "  last_matches_against_eachother = get_last_matches_against_eachother(matches, date, home_team, away_team, n) # get last matches against eachother\n",
        "  match_statistics_against_eachother = pd.DataFrame()\n",
        "  for i in range(len(last_matches_against_eachother)):\n",
        "    match = last_matches_against_eachother.iloc[i]\n",
        "    if match['home_team_api_id'] != home_team: \n",
        "      match[columns] = match[columns_rev]\n",
        "    match.drop(categories, inplace=True)\n",
        "    match_statistics_against_eachother = match_statistics_against_eachother.append(match)\n",
        "  diff = n - len(match_statistics_against_eachother) \n",
        "  if diff != 0: # if there are not as much last games against eachother than the sequence length requires, generate zero filled data\n",
        "    for i in range(diff):\n",
        "      match_statistics_against_eachother = match_statistics_against_eachother.append(pd.Series(0, index=columns), ignore_index=True)\n",
        "  match_statistics_against_eachother = match_statistics_against_eachother.drop(label_columns, axis=1).iloc[::-1] # drop label\n",
        "  return match_statistics_against_eachother"
      ]
    },
    {
      "cell_type": "markdown",
      "metadata": {
        "id": "aSiHO8ux3I5e"
      },
      "source": [
        "### Scaling"
      ]
    },
    {
      "cell_type": "code",
      "execution_count": null,
      "metadata": {
        "id": "KOjg--Vy3I5f"
      },
      "outputs": [],
      "source": [
        "def std_scaling(table, categories=None):\n",
        "    table_categories = table.loc[:,categories]\n",
        "    table = table.drop(categories, axis=1) # remove categories/labels during scaling\n",
        "    table_columns = (table.columns).tolist() \n",
        "    scaled_table = std_scaler.fit_transform(table) # standard scaling\n",
        "    scaled_frame = pd.DataFrame(scaled_table, columns=table_columns)\n",
        "    table_categories.reset_index(drop=True, inplace=True)\n",
        "    scaled_frame.reset_index(drop=True, inplace=True)\n",
        "    return pd.concat([scaled_frame, table_categories], axis=1) # add labels to the scaled data"
      ]
    },
    {
      "cell_type": "code",
      "execution_count": null,
      "metadata": {
        "id": "OvatDmIvMBP9"
      },
      "outputs": [],
      "source": [
        "def minmax_scaling(table, categories=None):\n",
        "    table_categories = table.loc[:,categories] \n",
        "    table = table.drop(categories, axis=1) # remove categories/labels during scaling\n",
        "    table_columns = (table.columns).tolist()\n",
        "    scaled_table = minmax_scaler.fit_transform(table) # minmax scaling\n",
        "    scaled_frame = pd.DataFrame(scaled_table, columns=table_columns)\n",
        "    table_categories.reset_index(drop=True, inplace=True)\n",
        "    scaled_frame.reset_index(drop=True, inplace=True)\n",
        "    return pd.concat([scaled_frame, table_categories], axis=1) # add labels to the scaled data"
      ]
    },
    {
      "cell_type": "markdown",
      "metadata": {
        "id": "5m8JOUe-3I5j"
      },
      "source": [
        "## Apply for all Matches"
      ]
    },
    {
      "cell_type": "code",
      "source": [
        "categories = ['home_team_api_id', 'away_team_api_id', 'date', 'Home_Win', 'Draw', 'Away_Win']"
      ],
      "metadata": {
        "id": "SLQTaZ_alpBE"
      },
      "execution_count": null,
      "outputs": []
    },
    {
      "cell_type": "code",
      "execution_count": null,
      "metadata": {
        "id": "IOeNKxNH3anO"
      },
      "outputs": [],
      "source": [
        "match_statistics = pd.DataFrame()\n",
        "r = 1\n",
        "for row in range(len(matches)):\n",
        "  print('\\r', ' Match: '+str(r)+'/'+str(len(matches)), end='')\n",
        "  match_statistics = match_statistics.append(get_match_statistics(matches.iloc[row], player_attributes))\n",
        "  r+=1"
      ]
    },
    {
      "cell_type": "code",
      "execution_count": null,
      "metadata": {
        "id": "peWyLCAp3k3z"
      },
      "outputs": [],
      "source": [
        "match_statistics_minmax_scaled = minmax_scaling(match_statistics, categories)"
      ]
    },
    {
      "cell_type": "markdown",
      "metadata": {
        "id": "G99mcp_i3Sq6"
      },
      "source": [
        "Including data from last games:"
      ]
    },
    {
      "cell_type": "code",
      "execution_count": null,
      "metadata": {
        "id": "1Nz4gua03I5m"
      },
      "outputs": [],
      "source": [
        "match_statistics_with_last_games = pd.DataFrame()\n",
        "for row in range(len(matches)):\n",
        "  match_statistics_with_last_games = match_statistics_with_last_games.append(get_match_statistics_with_last_games(matches.iloc[row], matches, player_attributes))"
      ]
    },
    {
      "cell_type": "code",
      "execution_count": null,
      "metadata": {
        "id": "cgNVcvImMjwc"
      },
      "outputs": [],
      "source": [
        "match_statistics_with_last_games_minmax_scaled = minmax_scaling(match_statistics_with_last_games, labels)"
      ]
    },
    {
      "cell_type": "markdown",
      "metadata": {
        "id": "O4u-iC6h936w"
      },
      "source": [
        "## Save Results"
      ]
    },
    {
      "cell_type": "code",
      "execution_count": null,
      "metadata": {
        "colab": {
          "base_uri": "https://localhost:8080/"
        },
        "id": "pMjGYGYx96ug",
        "outputId": "cc3a700f-6c8d-455b-e093-da6585cc37a2"
      },
      "outputs": [
        {
          "name": "stdout",
          "output_type": "stream",
          "text": [
            "Mounted at drive\n"
          ]
        }
      ],
      "source": [
        "from google.colab import drive\n",
        "drive.mount('drive')"
      ]
    },
    {
      "cell_type": "code",
      "execution_count": null,
      "metadata": {
        "id": "i6WkH0s29_oB"
      },
      "outputs": [],
      "source": [
        "match_statistics.to_csv('match_statistics_seq.csv') # need to change name for different datasets\n",
        "match_statistics_minmax_scaled.to_csv('match_statistics_seq_minmax_scaled.csv') # need to change name for different scaled datasets"
      ]
    },
    {
      "cell_type": "code",
      "execution_count": null,
      "metadata": {
        "id": "6vlBzTt_I_MZ"
      },
      "outputs": [],
      "source": [
        "!cp match_statistics_seq.csv \"drive/My Drive/\"  # need to change name for different datasets\n",
        "!cp match_statistics_seq_minmax_scaled.csv \"drive/My Drive/\" # need to change name for different scaled datasets"
      ]
    },
    {
      "cell_type": "markdown",
      "metadata": {
        "id": "nScENg9SAMGt"
      },
      "source": [
        "## Model Training Data"
      ]
    },
    {
      "cell_type": "code",
      "execution_count": null,
      "metadata": {
        "id": "qudp3-LM_50R"
      },
      "outputs": [],
      "source": [
        "import torch"
      ]
    },
    {
      "cell_type": "code",
      "execution_count": null,
      "metadata": {
        "id": "qztc3Vof2Pn7"
      },
      "outputs": [],
      "source": [
        "kfolds = 5                          # Cross-Validation folds\n",
        "batch_size = len(matches) // kfolds # Batch-Size per cross-validation fold\n",
        "validation_data_percentage = 0.2    # Percentage of validation data per fold"
      ]
    },
    {
      "cell_type": "code",
      "execution_count": null,
      "metadata": {
        "id": "dIpnYWhCZefI"
      },
      "outputs": [],
      "source": [
        "def batches_(seq, size):\n",
        "    return (seq[pos:pos + size] for pos in range(0, len(seq), size))"
      ]
    },
    {
      "cell_type": "code",
      "execution_count": null,
      "metadata": {
        "id": "7R8jIZaHaG8S"
      },
      "outputs": [],
      "source": [
        "def get_batches(matches, batch_size):\n",
        "  batches = []\n",
        "  for batch in batches_(matches, batch_size):\n",
        "    if len(batch) != batch_size:\n",
        "      continue\n",
        "    batches.append(batch)\n",
        "  return batches"
      ]
    },
    {
      "cell_type": "markdown",
      "source": [
        "## Proecss MLP Training Data for Block Cross-Validation"
      ],
      "metadata": {
        "id": "54vV790CBo0k"
      }
    },
    {
      "cell_type": "code",
      "source": [
        "  label_columns = ['Home_Win', 'Draw', 'Away_Win']"
      ],
      "metadata": {
        "id": "q9ZttDnhGs4e"
      },
      "execution_count": null,
      "outputs": []
    },
    {
      "cell_type": "markdown",
      "source": [
        "Without last matches information:"
      ],
      "metadata": {
        "id": "yRAaVRP_Dril"
      }
    },
    {
      "cell_type": "code",
      "source": [
        "match_statistics = pd.read_csv(\"/content/drive/MyDrive/NN_Praktikum/data/match_statistics_minmax_scaled.csv\", index_col=[0])"
      ],
      "metadata": {
        "id": "sePRMlWRDTTh"
      },
      "execution_count": null,
      "outputs": []
    },
    {
      "cell_type": "code",
      "source": [
        "match_statistics_label_tensor = torch.tensor((match_statistics[label_columns].values).astype(np.float32))\n",
        "match_statistics.drop(label_columns, axis=1, inplace=True)\n",
        "match_statistics_tensor = torch.tensor((match_statistics.values).astype(np.float32))"
      ],
      "metadata": {
        "id": "6DShiIgtGcrG"
      },
      "execution_count": null,
      "outputs": []
    },
    {
      "cell_type": "code",
      "source": [
        "training_data_batches = get_batches(match_statistics_tensor, batch_size)\n",
        "training_data_lables_batches = get_batches(match_statistics_label_tensor, batch_size)\n",
        "training_data_batches = [training_data_batches, training_data_lables_batches]"
      ],
      "metadata": {
        "id": "gURQz9HABoNG"
      },
      "execution_count": null,
      "outputs": []
    },
    {
      "cell_type": "code",
      "source": [
        "torch.save(training_data_batches, '/content/drive/MyDrive/NN_Praktikum/training_data/training_data_batches.pt')"
      ],
      "metadata": {
        "id": "JNIBJEibDgTZ"
      },
      "execution_count": null,
      "outputs": []
    },
    {
      "cell_type": "markdown",
      "source": [
        "With last matches information:"
      ],
      "metadata": {
        "id": "bcnVgKprDzTR"
      }
    },
    {
      "cell_type": "code",
      "source": [
        "match_statistics_with_last_games = pd.read_csv(\"/content/drive/MyDrive/NN_Praktikum/data/match_statistics_with_last_games_minmax_scaled.csv\", index_col=[0])"
      ],
      "metadata": {
        "id": "04hp7P2xDok3"
      },
      "execution_count": null,
      "outputs": []
    },
    {
      "cell_type": "code",
      "source": [
        "match_statistics_with_last_games_label_tensor = torch.tensor((match_statistics_with_last_games[label_columns].values).astype(np.float32))\n",
        "match_statistics_with_last_games.drop(label_columns, axis=1, inplace=True)\n",
        "match_statistics_with_last_games_tensor = torch.tensor((match_statistics_with_last_games.values).astype(np.float32))"
      ],
      "metadata": {
        "id": "iPdQrPtNJCcj"
      },
      "execution_count": null,
      "outputs": []
    },
    {
      "cell_type": "code",
      "source": [
        "training_data_batches = get_batches(match_statistics_with_last_games_tensor, batch_size)\n",
        "training_data_lables_batches = get_batches(match_statistics_with_last_games_label_tensor, batch_size)\n",
        "training_data_batches = [training_data_batches, training_data_lables_batches]"
      ],
      "metadata": {
        "id": "FwD4I7WyD4SN"
      },
      "execution_count": null,
      "outputs": []
    },
    {
      "cell_type": "code",
      "source": [
        "torch.save(training_data_batches, '/content/drive/MyDrive/NN_Praktikum/training_data/training_data_with_last_games_batches.pt')"
      ],
      "metadata": {
        "id": "kZcDsDAeD42_"
      },
      "execution_count": null,
      "outputs": []
    },
    {
      "cell_type": "markdown",
      "metadata": {
        "id": "-qOqJvI6_k7a"
      },
      "source": [
        "## Process LSTM Training Data for Blocked Cross-Validation"
      ]
    },
    {
      "cell_type": "code",
      "source": [
        "match_statistics_seq = pd.read_csv(\"/content/drive/MyDrive/NN_Praktikum/data/match_statistics_seq_minmax_scaled.csv\", index_col=[0])"
      ],
      "metadata": {
        "id": "FXx3ao02Mxos"
      },
      "execution_count": null,
      "outputs": []
    },
    {
      "cell_type": "code",
      "source": [
        "seq_length = 5"
      ],
      "metadata": {
        "id": "9sPTDrq0Bb0u"
      },
      "execution_count": null,
      "outputs": []
    },
    {
      "cell_type": "code",
      "execution_count": null,
      "metadata": {
        "id": "4DRtRirXiCtL"
      },
      "outputs": [],
      "source": [
        "# Generates sequential data for LSTM\n",
        "def get_training_data_batches(matches, batches, player_attributes):\n",
        "  training_data_batches = []\n",
        "  i = 1\n",
        "  for batch in batches:\n",
        "    training_data = []\n",
        "    training_data_labels = []\n",
        "    m = 1\n",
        "    for _, match in batch.iterrows():\n",
        "      print('\\r', 'Batch: '+str(i)+'/'+str(len(batches))+' Match: '+str(m)+'/'+str(len(batch)), end='')\n",
        "      # match_statistics = get_match_statistics(match, player_attributes)\n",
        "      date = match['date']\n",
        "      home_team_api_id = match['home_team_api_id']\n",
        "      away_team_api_id = match['away_team_api_id']\n",
        "      # get label\n",
        "      label = match[['Home_Win', 'Draw', 'Away_Win']]\n",
        "      # get sequence of last games against each other\n",
        "      match_statistics_last_games_against_eachother = get_match_statistics_last_games_against_eachother(matches, date, home_team_api_id, away_team_api_id, player_attributes, n=seq_length)\n",
        "      # concatenate to sequence\n",
        "      match.drop(['home_team_api_id', 'away_team_api_id', 'date', 'Home_Win', 'Draw', 'Away_Win'], inplace=True)\n",
        "      match = pd.concat([match_statistics_last_games_against_eachother, match.to_frame().T], axis=0)\n",
        "      match_statistics_tensor = torch.tensor((match.values).astype(np.float32))\n",
        "      training_data.append(match_statistics_tensor)\n",
        "      label_tensor = torch.tensor((label.values).astype(np.float32))\n",
        "      training_data_labels.append(label_tensor)\n",
        "      m += 1\n",
        "    training_data_tensor = torch.stack(training_data)\n",
        "    training_data_labels_tensor = torch.squeeze(torch.stack(training_data_labels))\n",
        "    training_data_batches.append([training_data, training_data_labels])\n",
        "    i += 1\n",
        "  return training_data_batches"
      ]
    },
    {
      "cell_type": "code",
      "execution_count": null,
      "metadata": {
        "colab": {
          "base_uri": "https://localhost:8080/"
        },
        "id": "mPim_-wVHY18",
        "outputId": "45d5680b-04ed-4ef0-f5bf-f63d430360cb"
      },
      "outputs": [
        {
          "output_type": "stream",
          "name": "stdout",
          "text": [
            " Batch: 5/5 Match: 5195/5195"
          ]
        }
      ],
      "source": [
        "batches = get_batches(match_statistics_seq, batch_size)\n",
        "training_data_batches = get_training_data_batches(match_statistics_seq, batches, player_attributes)"
      ]
    },
    {
      "cell_type": "code",
      "execution_count": null,
      "metadata": {
        "id": "4GCYIwGFosK-"
      },
      "outputs": [],
      "source": [
        "torch.save(training_data_batches, '/content/drive/MyDrive/NN_Praktikum/training_data/training_data_seq_batches.pt')"
      ]
    }
  ],
  "metadata": {
    "colab": {
      "collapsed_sections": [],
      "name": "Preprocessing.ipynb",
      "provenance": []
    },
    "kernelspec": {
      "display_name": "Python 3",
      "language": "python",
      "name": "python3"
    },
    "language_info": {
      "codemirror_mode": {
        "name": "ipython",
        "version": 3
      },
      "file_extension": ".py",
      "mimetype": "text/x-python",
      "name": "python",
      "nbconvert_exporter": "python",
      "pygments_lexer": "ipython3",
      "version": "3.8.5"
    }
  },
  "nbformat": 4,
  "nbformat_minor": 0
}
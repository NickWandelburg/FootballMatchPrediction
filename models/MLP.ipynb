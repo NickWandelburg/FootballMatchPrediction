{
  "cells": [
    {
      "cell_type": "markdown",
      "metadata": {
        "id": "x77M7ZMgL7CF"
      },
      "source": [
        "# MLP"
      ]
    },
    {
      "cell_type": "markdown",
      "metadata": {
        "id": "a3V4HaSrAVlD"
      },
      "source": [
        "Pytorch MLP implementation for football match prediction."
      ]
    },
    {
      "cell_type": "code",
      "execution_count": null,
      "metadata": {
        "id": "qudp3-LM_50R"
      },
      "outputs": [],
      "source": [
        "import torch\n",
        "import torch.nn as nn\n",
        "import torch.nn.functional as F\n",
        "from torch.nn.modules.linear import Linear"
      ]
    },
    {
      "cell_type": "code",
      "execution_count": null,
      "metadata": {
        "id": "2h7jibqr3hDc"
      },
      "outputs": [],
      "source": [
        "import math"
      ]
    },
    {
      "cell_type": "code",
      "execution_count": null,
      "metadata": {
        "colab": {
          "base_uri": "https://localhost:8080/"
        },
        "id": "iLAYnE4dKExc",
        "outputId": "6af8b9d8-ce5a-498c-9bc2-6986f9b0a339"
      },
      "outputs": [
        {
          "name": "stdout",
          "output_type": "stream",
          "text": [
            "Device: cuda\n"
          ]
        }
      ],
      "source": [
        "is_cuda = torch.cuda.is_available()\n",
        "if is_cuda:\n",
        "    device = torch.device(\"cuda\")\n",
        "else:\n",
        "    device = torch.device(\"cpu\")\n",
        "print('Device:', device)"
      ]
    },
    {
      "cell_type": "markdown",
      "metadata": {
        "id": "MHpURewdMKDN"
      },
      "source": [
        "## Model"
      ]
    },
    {
      "cell_type": "code",
      "execution_count": null,
      "metadata": {
        "id": "gwoxmjL5IL5H"
      },
      "outputs": [],
      "source": [
        "num_classes = 3   # number of classes\n",
        "input_size = 18   # number of features in the input    \n",
        "hidden_size = 5   # number of features in the hidden state"
      ]
    },
    {
      "cell_type": "code",
      "execution_count": null,
      "metadata": {
        "id": "1jkpke11MLzh"
      },
      "outputs": [],
      "source": [
        "class MLP(nn.Module):\n",
        "    def __init__(self, num_classes, input_size, hidden_size):\n",
        "        super(MLP, self).__init__()\n",
        "        self.num_classes = num_classes  # number of classes\n",
        "        self.input_size = input_size    # input size\n",
        "        self.hidden_size = hidden_size  # hidden state\n",
        "        \n",
        "        self.flatten = nn.Flatten()\n",
        "\n",
        "        self.linear_relu_stack = nn.Sequential(\n",
        "            nn.Linear(input_size, hidden_size),  # fully connected inuput layer\n",
        "            nn.ReLU(),                           # ReLu\n",
        "            nn.Linear(hidden_size, hidden_size), # fully connected hidden layer\n",
        "            nn.ReLU(),                           # ReLu\n",
        "            nn.Linear(hidden_size, hidden_size), # fully connected hidden layer\n",
        "            nn.ReLU(),                           # ReLu\n",
        "            nn.Linear(hidden_size, num_classes)  # fully connected output layer\n",
        "        )\n",
        "\n",
        "    def forward(self, x):\n",
        "        x = self.flatten(x)\n",
        "        out = self.linear_relu_stack(x)\n",
        "        return out\n",
        "\n",
        "    def init_linear(self, m):\n",
        "        if isinstance(m, nn.Linear):\n",
        "            # kaiming normal initialization\n",
        "            dim_in = m.weight.shape[1]\n",
        "            gain = math.sqrt(2.) # ReLu gain\n",
        "            u = gain/math.sqrt(dim_in)\n",
        "            m.weight.data.normal_(0.0, math.pow(u,2)).to(device)"
      ]
    },
    {
      "cell_type": "code",
      "execution_count": null,
      "metadata": {
        "colab": {
          "base_uri": "https://localhost:8080/"
        },
        "id": "5baBpWNoM9Ty",
        "outputId": "7b88229d-83ac-49d4-9789-1a396ff7f2e0"
      },
      "outputs": [
        {
          "data": {
            "text/plain": [
              "MLP(\n",
              "  (flatten): Flatten(start_dim=1, end_dim=-1)\n",
              "  (linear_relu_stack): Sequential(\n",
              "    (0): Linear(in_features=18, out_features=5, bias=True)\n",
              "    (1): ReLU()\n",
              "    (2): Linear(in_features=5, out_features=5, bias=True)\n",
              "    (3): ReLU()\n",
              "    (4): Linear(in_features=5, out_features=5, bias=True)\n",
              "    (5): ReLU()\n",
              "    (6): Linear(in_features=5, out_features=3, bias=True)\n",
              "  )\n",
              ")"
            ]
          },
          "execution_count": 6,
          "metadata": {},
          "output_type": "execute_result"
        }
      ],
      "source": [
        "model = MLP(num_classes, input_size, hidden_size)\n",
        "model.to(device)"
      ]
    },
    {
      "cell_type": "markdown",
      "metadata": {
        "id": "NidY0lgsSZ6V"
      },
      "source": [
        "## Training"
      ]
    },
    {
      "cell_type": "markdown",
      "metadata": {
        "id": "YzQzXQKRSdyV"
      },
      "source": [
        "Hyperparameters:"
      ]
    },
    {
      "cell_type": "code",
      "execution_count": null,
      "metadata": {
        "id": "TlivVrnbSa7E"
      },
      "outputs": [],
      "source": [
        "lr = 0.001            # learning rate\n",
        "weight_decay = 0.0  # l2 regularization"
      ]
    },
    {
      "cell_type": "code",
      "execution_count": null,
      "metadata": {
        "id": "_NSDrisgUai-"
      },
      "outputs": [],
      "source": [
        "epochs = 10001"
      ]
    },
    {
      "cell_type": "markdown",
      "metadata": {
        "id": "e8laCxY0b1lw"
      },
      "source": [
        "Loss:"
      ]
    },
    {
      "cell_type": "code",
      "execution_count": null,
      "metadata": {
        "id": "3X9iBBdzb3sn"
      },
      "outputs": [],
      "source": [
        "criterion = nn.CrossEntropyLoss()"
      ]
    },
    {
      "cell_type": "markdown",
      "metadata": {
        "id": "oE5ww-zYSnS9"
      },
      "source": [
        "Optimizer:"
      ]
    },
    {
      "cell_type": "code",
      "execution_count": null,
      "metadata": {
        "id": "K7cZH26_Sl-f"
      },
      "outputs": [],
      "source": [
        "optimizer = torch.optim.Adam(model.parameters(), lr=lr, weight_decay=weight_decay)"
      ]
    },
    {
      "cell_type": "markdown",
      "metadata": {
        "id": "ZIKnIHg84OzC"
      },
      "source": [
        "Load training data:"
      ]
    },
    {
      "cell_type": "code",
      "execution_count": null,
      "metadata": {
        "id": "fJMYMnQL4N7X"
      },
      "outputs": [],
      "source": [
        "# if using this dataset, please change input_size to 5\n",
        "# training_data_batches = torch.load('../data/tensors/training_data_batches.pt') # without last games information"
      ]
    },
    {
      "cell_type": "code",
      "execution_count": null,
      "metadata": {
        "id": "f_mRv4GSRh5C"
      },
      "outputs": [],
      "source": [
        "# if using this dataset, please change input_size to 18\n",
        "training_data_batches = torch.load('../data/tensors/training_data_with_last_games_batches.pt') # with last games information"
      ]
    },
    {
      "cell_type": "markdown",
      "metadata": {
        "id": "M9GElvh13Uvn"
      },
      "source": [
        "### Ploting"
      ]
    },
    {
      "cell_type": "code",
      "execution_count": null,
      "metadata": {
        "id": "QTutGfA-3Uvn"
      },
      "outputs": [],
      "source": [
        "import matplotlib.pyplot as plt"
      ]
    },
    {
      "cell_type": "code",
      "execution_count": null,
      "metadata": {
        "id": "s0wNzATM3Uvo"
      },
      "outputs": [],
      "source": [
        "def plot_training_validation_loss(training_losses, validation_losses):\n",
        "    plt.plot(training_losses, color='red', marker='x', label='training loss') \n",
        "    plt.plot(validation_losses, color='orange', marker='x', label='validation loss')\n",
        "    plt.ylabel('Cross Entropy Loss') \n",
        "    plt.xlabel('Batch')\n",
        "    plt.title(\"Training/Validation Loss\")\n",
        "    plt.ylim([0.8, 1.2])\n",
        "    plt.legend()\n",
        "    plt.savefig('../results/mlp/mlp_' + str(weight_decay) + '_' + str(hidden_size)+ '_' + str(lr) + '_train_val.png')\n",
        "    plt.show() "
      ]
    },
    {
      "cell_type": "code",
      "execution_count": null,
      "metadata": {
        "id": "Jt_ad5Yx3Uvq"
      },
      "outputs": [],
      "source": [
        "def plot_accuracy(accuracies):\n",
        "    plt.plot(accuracies, color='blue', marker='x') \n",
        "    plt.ylabel('Accuracy') \n",
        "    plt.xlabel('Batch')\n",
        "    plt.title(\"Training/Validation Loss\")\n",
        "    plt.ylim([0.4, 0.6])\n",
        "    plt.savefig('../results/mlp/mlp_' + str(weight_decay) + '_' + str(hidden_size)+ '_' + str(lr) + '_accuracy.png')\n",
        "    plt.show() "
      ]
    },
    {
      "cell_type": "markdown",
      "metadata": {
        "id": "-qOqJvI6_k7a"
      },
      "source": [
        "#### Blocked Cross-Validation"
      ]
    },
    {
      "cell_type": "code",
      "execution_count": null,
      "metadata": {
        "id": "qztc3Vof2Pn7"
      },
      "outputs": [],
      "source": [
        "kfolds = 5\n",
        "batch_size = len(training_data_batches[0][0])\n",
        "validation_data_percentage = 0.2"
      ]
    },
    {
      "cell_type": "code",
      "execution_count": null,
      "metadata": {
        "colab": {
          "base_uri": "https://localhost:8080/"
        },
        "id": "iJFfEa2F4JiN",
        "outputId": "116d090c-a45c-4728-f240-83edafea507e"
      },
      "outputs": [
        {
          "name": "stdout",
          "output_type": "stream",
          "text": [
            "\n",
            "Batch: 1\n",
            " Epoch: 0, training loss: 1.07\n",
            " Epoch: 500, training loss: 0.97\n",
            " Epoch: 1000, training loss: 0.97\n",
            " Epoch: 1500, training loss: 0.96\n",
            " Epoch: 2000, training loss: 0.96\n",
            " Epoch: 2500, training loss: 0.96\n",
            " Epoch: 3000, training loss: 0.96\n",
            " Epoch: 3500, training loss: 0.96\n",
            " Epoch: 4000, training loss: 0.96\n",
            " Epoch: 4500, training loss: 0.96\n",
            " Epoch: 5000, training loss: 0.96\n",
            " Epoch: 5500, training loss: 0.96\n",
            " Epoch: 6000, training loss: 0.96\n",
            " Epoch: 6500, training loss: 0.96\n",
            " Epoch: 7000, training loss: 0.96\n",
            " Epoch: 7500, training loss: 0.96\n",
            " Epoch: 8000, training loss: 0.96\n",
            " Epoch: 8500, training loss: 0.96\n",
            " Epoch: 9000, training loss: 0.96\n",
            " Epoch: 9500, training loss: 0.96\n",
            " Epoch: 10000, training loss: 0.96\n",
            "\n",
            "Batch 1 Accuracy: 0.50, batch validation loss: 1.02\n",
            "\n",
            "Batch: 2\n",
            " Epoch: 0, training loss: 1.02\n",
            " Epoch: 500, training loss: 1.00\n",
            " Epoch: 1000, training loss: 1.00\n",
            " Epoch: 1500, training loss: 1.00\n",
            " Epoch: 2000, training loss: 1.00\n",
            " Epoch: 2500, training loss: 1.00\n",
            " Epoch: 3000, training loss: 1.00\n",
            " Epoch: 3500, training loss: 1.00\n",
            " Epoch: 4000, training loss: 0.99\n",
            " Epoch: 4500, training loss: 0.99\n",
            " Epoch: 5000, training loss: 0.99\n",
            " Epoch: 5500, training loss: 0.99\n",
            " Epoch: 6000, training loss: 0.99\n",
            " Epoch: 6500, training loss: 0.99\n",
            " Epoch: 7000, training loss: 0.99\n",
            " Epoch: 7500, training loss: 0.99\n",
            " Epoch: 8000, training loss: 0.99\n",
            " Epoch: 8500, training loss: 0.99\n",
            " Epoch: 9000, training loss: 0.99\n",
            " Epoch: 9500, training loss: 0.99\n",
            " Epoch: 10000, training loss: 0.99\n",
            "\n",
            "Batch 2 Accuracy: 0.52, batch validation loss: 1.00\n",
            "\n",
            "Batch: 3\n",
            " Epoch: 0, training loss: 0.98\n",
            " Epoch: 500, training loss: 0.96\n",
            " Epoch: 1000, training loss: 0.96\n",
            " Epoch: 1500, training loss: 0.95\n",
            " Epoch: 2000, training loss: 0.95\n",
            " Epoch: 2500, training loss: 0.95\n",
            " Epoch: 3000, training loss: 0.95\n",
            " Epoch: 3500, training loss: 0.95\n",
            " Epoch: 4000, training loss: 0.95\n",
            " Epoch: 4500, training loss: 0.95\n",
            " Epoch: 5000, training loss: 0.95\n",
            " Epoch: 5500, training loss: 0.95\n",
            " Epoch: 6000, training loss: 0.95\n",
            " Epoch: 6500, training loss: 0.95\n",
            " Epoch: 7000, training loss: 0.95\n",
            " Epoch: 7500, training loss: 0.95\n",
            " Epoch: 8000, training loss: 0.95\n",
            " Epoch: 8500, training loss: 0.95\n",
            " Epoch: 9000, training loss: 0.95\n",
            " Epoch: 9500, training loss: 0.95\n",
            " Epoch: 10000, training loss: 0.95\n",
            "\n",
            "Batch 3 Accuracy: 0.50, batch validation loss: 1.00\n",
            "\n",
            "Batch: 4\n",
            " Epoch: 0, training loss: 1.01\n",
            " Epoch: 500, training loss: 0.98\n",
            " Epoch: 1000, training loss: 0.97\n",
            " Epoch: 1500, training loss: 0.97\n",
            " Epoch: 2000, training loss: 0.97\n",
            " Epoch: 2500, training loss: 0.97\n",
            " Epoch: 3000, training loss: 0.97\n",
            " Epoch: 3500, training loss: 0.97\n",
            " Epoch: 4000, training loss: 0.97\n",
            " Epoch: 4500, training loss: 0.97\n",
            " Epoch: 5000, training loss: 0.97\n",
            " Epoch: 5500, training loss: 0.97\n",
            " Epoch: 6000, training loss: 0.97\n",
            " Epoch: 6500, training loss: 0.97\n",
            " Epoch: 7000, training loss: 0.97\n",
            " Epoch: 7500, training loss: 0.97\n",
            " Epoch: 8000, training loss: 0.97\n",
            " Epoch: 8500, training loss: 0.97\n",
            " Epoch: 9000, training loss: 0.97\n",
            " Epoch: 9500, training loss: 0.97\n",
            " Epoch: 10000, training loss: 0.97\n",
            "\n",
            "Batch 4 Accuracy: 0.49, batch validation loss: 1.00\n",
            "\n",
            "Batch: 5\n",
            " Epoch: 0, training loss: 0.98\n",
            " Epoch: 500, training loss: 0.94\n",
            " Epoch: 1000, training loss: 0.94\n",
            " Epoch: 1500, training loss: 0.94\n",
            " Epoch: 2000, training loss: 0.94\n",
            " Epoch: 2500, training loss: 0.94\n",
            " Epoch: 3000, training loss: 0.94\n",
            " Epoch: 3500, training loss: 0.94\n",
            " Epoch: 4000, training loss: 0.94\n",
            " Epoch: 4500, training loss: 0.94\n",
            " Epoch: 5000, training loss: 0.94\n",
            " Epoch: 5500, training loss: 0.94\n",
            " Epoch: 6000, training loss: 0.94\n",
            " Epoch: 6500, training loss: 0.94\n",
            " Epoch: 7000, training loss: 0.94\n",
            " Epoch: 7500, training loss: 0.94\n",
            " Epoch: 8000, training loss: 0.94\n",
            " Epoch: 8500, training loss: 0.94\n",
            " Epoch: 9000, training loss: 0.94\n",
            " Epoch: 9500, training loss: 0.94\n",
            " Epoch: 10000, training loss: 0.94\n",
            "\n",
            "Batch 5 Accuracy: 0.48, batch validation loss: 1.04\n",
            "\n",
            "Accuracy: 0.50, trainig loss: 0.96, validation loss: 1.01\n"
          ]
        },
        {
          "data": {
            "image/png": "[encoded data removed]",
            "text/plain": [
              "<Figure size 432x288 with 1 Axes>"
            ]
          },
          "metadata": {
            "needs_background": "light"
          },
          "output_type": "display_data"
        },
        {
          "data": {
            "image/png": "[encoded data removed]",
            "text/plain": [
              "<Figure size 432x288 with 1 Axes>"
            ]
          },
          "metadata": {
            "needs_background": "light"
          },
          "output_type": "display_data"
        }
      ],
      "source": [
        "model.apply(model.init_linear)\n",
        "training_loss, validation_loss, accuracy = [], [], []  \n",
        "for k in range(kfolds):\n",
        "    # Block Cross Validation\n",
        "    training_data = training_data_batches[0][k]\n",
        "    labels = training_data_batches[1][k]\n",
        "    \n",
        "    # split training/validation data\n",
        "    training_batch_size = int(training_data.shape[0] * (1.0 - validation_data_percentage))\n",
        "\n",
        "    training_data_fold = training_data[:training_batch_size, :].to(device)\n",
        "    validation_data_fold = training_data[training_batch_size:, :].to(device)\n",
        "\n",
        "    training_labels_fold = labels[:training_batch_size, :].to(device)\n",
        "    validation_labels_fold = labels[training_batch_size:, :].to(device)\n",
        "\n",
        "    # training on training dataset\n",
        "    print(\"\\nBatch: %d\" % (k+1))\n",
        "    model.train()\n",
        "    for epoch in range(epochs):\n",
        "        model.zero_grad()\n",
        "        output = model(training_data_fold)\n",
        "        loss = criterion(output, training_labels_fold)\n",
        "        loss.backward()\n",
        "        optimizer.step()\n",
        "  \n",
        "        if epoch % 500 == 0:\n",
        "            print(\" Epoch: %d, training loss: %1.2f\" % (epoch, loss.item()))\n",
        "        \n",
        "    training_loss.append(loss.item())\n",
        "\n",
        "    # validation on training dataset\n",
        "    validation_batch_size = validation_data_fold.shape[0]\n",
        "    model.eval()\n",
        "    validation_loss_batch, accuracy_batch = 0.0, 0.0\n",
        "    with torch.no_grad():\n",
        "        prediction = model(validation_data_fold)\n",
        "        validation_loss_batch = criterion(prediction, validation_labels_fold).item()\n",
        "        accuracy_batch = ((torch.argmax(prediction, dim=1) == torch.argmax(validation_labels_fold, dim=1)).type(torch.float).sum()) / validation_batch_size\n",
        "    print(\"\\nBatch %d Accuracy: %1.2f, batch validation loss: %1.2f\" % (k+1, accuracy_batch, validation_loss_batch))\n",
        "\n",
        "    validation_loss.append(validation_loss_batch)\n",
        "    accuracy.append(accuracy_batch.cpu())\n",
        "training_loss_avg = sum(training_loss) / kfolds\n",
        "validation_loss_avg = sum(validation_loss) / kfolds\n",
        "accuracy_avg = sum(accuracy) / kfolds\n",
        "print(\"\\nAccuracy: %1.2f, trainig loss: %1.2f, validation loss: %1.2f\" % (accuracy_avg, training_loss_avg, validation_loss_avg))\n",
        "plot_training_validation_loss(training_loss, validation_loss)\n",
        "plot_accuracy(accuracy)"
      ]
    },
    {
      "cell_type": "code",
      "execution_count": null,
      "metadata": {
        "id": "SD9FRgak3Uvu"
      },
      "outputs": [],
      "source": [
        ""
      ]
    }
  ],
  "metadata": {
    "colab": {
      "collapsed_sections": [],
      "name": "MLP_.ipynb",
      "provenance": []
    },
    "kernelspec": {
      "display_name": "Python 3 (ipykernel)",
      "language": "python",
      "name": "python3"
    },
    "language_info": {
      "codemirror_mode": {
        "name": "ipython",
        "version": 3
      },
      "file_extension": ".py",
      "mimetype": "text/x-python",
      "name": "python",
      "nbconvert_exporter": "python",
      "pygments_lexer": "ipython3",
      "version": "3.9.7"
    }
  },
  "nbformat": 4,
  "nbformat_minor": 0
}
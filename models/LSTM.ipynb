{
 "cells": [
  {
   "cell_type": "markdown",
   "metadata": {
    "id": "nScENg9SAMGt"
   },
   "source": [
    "# LSTM"
   ]
  },
  {
   "cell_type": "markdown",
   "metadata": {
    "id": "a3V4HaSrAVlD"
   },
   "source": [
    "Pytorch LSTM implementation for football match prediction."
   ]
  },
  {
   "cell_type": "code",
   "execution_count": 2,
   "metadata": {
    "id": "qudp3-LM_50R"
   },
   "outputs": [],
   "source": [
    "import torch\n",
    "import torch.nn as nn\n",
    "import torch.nn.functional as F\n",
    "from torch.nn.modules.linear import Linear"
   ]
  },
  {
   "cell_type": "code",
   "execution_count": 3,
   "metadata": {
    "id": "2h7jibqr3hDc"
   },
   "outputs": [],
   "source": [
    "import math"
   ]
  },
  {
   "cell_type": "markdown",
   "metadata": {
    "id": "5oAk9UoKKFiX"
   },
   "source": [
    "## Device"
   ]
  },
  {
   "cell_type": "code",
   "execution_count": 4,
   "metadata": {
    "colab": {
     "base_uri": "https://localhost:8080/"
    },
    "id": "iLAYnE4dKExc",
    "outputId": "eace0406-e378-40c4-85c9-3b946a6d495a"
   },
   "outputs": [
    {
     "name": "stdout",
     "output_type": "stream",
     "text": [
      "Device: cpu\n"
     ]
    }
   ],
   "source": [
    "is_cuda = torch.cuda.is_available()\n",
    "if is_cuda:\n",
    "    device = torch.device(\"cuda\")\n",
    "else:\n",
    "    device = torch.device(\"cpu\")\n",
    "print('Device:', device)"
   ]
  },
  {
   "cell_type": "markdown",
   "metadata": {
    "id": "0bu_5EwTJlag"
   },
   "source": [
    "## Dimensions"
   ]
  },
  {
   "cell_type": "code",
   "execution_count": 18,
   "metadata": {
    "id": "gwoxmjL5IL5H"
   },
   "outputs": [],
   "source": [
    "num_classes = 3   # number of classes\n",
    "input_size = 5    # number of features in the input    \n",
    "hidden_size = 4   # number of features in the hidden state\n",
    "num_layers = 1    # number of recurrent lstm layers\n",
    "seq_length = 5    # length of an input sequence\n",
    "dropout = 0.0     # dropout rate"
   ]
  },
  {
   "cell_type": "markdown",
   "metadata": {
    "id": "ixH_JHdRK6ZZ"
   },
   "source": [
    "## LSTM model"
   ]
  },
  {
   "cell_type": "code",
   "execution_count": 19,
   "metadata": {
    "id": "HthycVr8JsgO"
   },
   "outputs": [],
   "source": [
    "class LSTM(nn.Module):\n",
    "    def __init__(self, num_classes, input_size, hidden_size, num_layers, dropout):\n",
    "        super(LSTM, self).__init__()\n",
    "        self.num_classes = num_classes  # number of classes\n",
    "        self.input_size = input_size    # input size\n",
    "        self.hidden_size = hidden_size  # hidden state\n",
    "        self.num_layers = num_layers    # number of layers\n",
    "        self.dropout = dropout          # dropout rate\n",
    "\n",
    "        self.lstm = nn.LSTM(input_size=input_size, hidden_size=hidden_size,\n",
    "                          num_layers=num_layers, dropout=dropout, batch_first=True) # LSTM\n",
    "        self.fc = nn.Linear(hidden_size, num_classes) # fully connected output layer\n",
    "    \n",
    "        self.relu = nn.ReLU()\n",
    "\n",
    "    def forward(self, x, hidden):\n",
    "        out, _ = self.lstm(x, hidden) # LSTM forward pass\n",
    "        out = out[:, -1, :]           # get output features (h_t) from the last layer of the LSTM, for last time step\n",
    "        out = self.relu(out)          # ReLu\n",
    "        out = self.fc(out)            # fully connected output layer\n",
    "        return out\n",
    "\n",
    "    def init_hidden(self, batch_size):\n",
    "        weight = next(self.parameters()).data\n",
    "        hidden = (weight.new(self.num_layers, batch_size, self.hidden_size).zero_().to(device),\n",
    "                  weight.new(self.num_layers, batch_size, self.hidden_size).zero_().to(device))\n",
    "        return hidden\n",
    "\n",
    "    def init_linear(self, m):\n",
    "        if isinstance(m, nn.Linear):\n",
    "            # xavier normal initialization\n",
    "            dim_in = m.weight.shape[1]\n",
    "            dim_out = m.weight.shape[0]\n",
    "            gain = 1. \n",
    "            u = gain * math.sqrt(2./(dim_in+dim_out))\n",
    "            m.weight.data.normal_(0.0, math.pow(u,2)).to(device)"
   ]
  },
  {
   "cell_type": "markdown",
   "metadata": {
    "id": "tRtTp1_DSBNx"
   },
   "source": [
    "## Model"
   ]
  },
  {
   "cell_type": "code",
   "execution_count": 20,
   "metadata": {
    "colab": {
     "base_uri": "https://localhost:8080/"
    },
    "id": "5baBpWNoM9Ty",
    "outputId": "91bcb774-fc71-4bd1-d31f-df11009a3420"
   },
   "outputs": [
    {
     "data": {
      "text/plain": [
       "LSTM(\n",
       "  (lstm): LSTM(5, 4, batch_first=True)\n",
       "  (fc): Linear(in_features=4, out_features=3, bias=True)\n",
       "  (relu): ReLU()\n",
       ")"
      ]
     },
     "execution_count": 20,
     "metadata": {},
     "output_type": "execute_result"
    }
   ],
   "source": [
    "model = LSTM(num_classes, input_size, hidden_size, num_layers, dropout)\n",
    "model.to(device)"
   ]
  },
  {
   "cell_type": "markdown",
   "metadata": {
    "id": "NidY0lgsSZ6V"
   },
   "source": [
    "## Training"
   ]
  },
  {
   "cell_type": "markdown",
   "metadata": {
    "id": "YzQzXQKRSdyV"
   },
   "source": [
    "Hyperparameters:"
   ]
  },
  {
   "cell_type": "code",
   "execution_count": 21,
   "metadata": {
    "id": "TlivVrnbSa7E"
   },
   "outputs": [],
   "source": [
    "lr = 0.001            # learning rate\n",
    "clip = 1.0            # gradient clipping range\n",
    "weight_decay = 0.001  # l2 regularization"
   ]
  },
  {
   "cell_type": "code",
   "execution_count": 22,
   "metadata": {
    "id": "_NSDrisgUai-"
   },
   "outputs": [],
   "source": [
    "epochs = 10001"
   ]
  },
  {
   "cell_type": "markdown",
   "metadata": {
    "id": "e8laCxY0b1lw"
   },
   "source": [
    "Loss:"
   ]
  },
  {
   "cell_type": "code",
   "execution_count": 23,
   "metadata": {
    "id": "3X9iBBdzb3sn"
   },
   "outputs": [],
   "source": [
    "criterion = nn.CrossEntropyLoss()"
   ]
  },
  {
   "cell_type": "markdown",
   "metadata": {
    "id": "oE5ww-zYSnS9"
   },
   "source": [
    "Optimizer:"
   ]
  },
  {
   "cell_type": "code",
   "execution_count": 24,
   "metadata": {
    "id": "K7cZH26_Sl-f"
   },
   "outputs": [],
   "source": [
    "optimizer = torch.optim.Adam(model.parameters(), lr=lr, weight_decay=weight_decay)"
   ]
  },
  {
   "cell_type": "markdown",
   "metadata": {
    "id": "fJCc7tQ3SvBc"
   },
   "source": [
    "## Training"
   ]
  },
  {
   "cell_type": "markdown",
   "metadata": {
    "id": "ZIKnIHg84OzC"
   },
   "source": [
    "Load training data:"
   ]
  },
  {
   "cell_type": "code",
   "execution_count": 12,
   "metadata": {
    "id": "fJMYMnQL4N7X"
   },
   "outputs": [],
   "source": [
    "training_data_batches = torch.load('../data/tensors/training_data_seq_batches.pt')"
   ]
  },
  {
   "cell_type": "markdown",
   "metadata": {
    "id": "aTJapmzBwvoZ"
   },
   "source": [
    "### Ploting"
   ]
  },
  {
   "cell_type": "code",
   "execution_count": 25,
   "metadata": {
    "id": "QLEJmLE3xtwy"
   },
   "outputs": [],
   "source": [
    "import matplotlib.pyplot as plt"
   ]
  },
  {
   "cell_type": "code",
   "execution_count": 26,
   "metadata": {
    "id": "Vv6-c_b5wvKT"
   },
   "outputs": [],
   "source": [
    "def plot_training_validation_loss(training_losses, validation_losses):\n",
    "    plt.plot(training_losses, color='red', marker='x', label='training loss') \n",
    "    plt.plot(validation_losses, color='orange', marker='x', label='validation loss')\n",
    "    plt.ylabel('Cross Entropy Loss') \n",
    "    plt.xlabel('Batch')\n",
    "    plt.title(\"Training/Validation Loss\")\n",
    "    plt.ylim([0.8, 1.2])\n",
    "    plt.legend()\n",
    "    plt.savefig('../results/lstm/lstm_' + str(dropout) + '_' + str(weight_decay) + '_' + str(num_layers) + '_' + str(hidden_size)+ '_' + str(lr) + '_' + str(clip) + '_train_val.png')\n",
    "    plt.show() "
   ]
  },
  {
   "cell_type": "code",
   "execution_count": 27,
   "metadata": {
    "id": "lc646EtKw9oW"
   },
   "outputs": [],
   "source": [
    "def plot_accuracy(accuracies):\n",
    "    plt.plot(accuracies, color='blue', marker='x') \n",
    "    plt.ylabel('Accuracy') \n",
    "    plt.xlabel('Batch')\n",
    "    plt.title(\"Training/Validation Loss\")\n",
    "    plt.ylim([0.4, 0.6])\n",
    "    plt.savefig('../results/lstm/lstm_' + str(dropout) + '_' + str(weight_decay) + '_' + str(num_layers) + '_' + str(hidden_size)+ '_' + str(lr) + '_' + str(clip) + '_accuracy.png')\n",
    "    plt.show() "
   ]
  },
  {
   "cell_type": "markdown",
   "metadata": {
    "id": "-qOqJvI6_k7a"
   },
   "source": [
    "#### Blocked Cross-Validation"
   ]
  },
  {
   "cell_type": "code",
   "execution_count": 28,
   "metadata": {
    "id": "qztc3Vof2Pn7"
   },
   "outputs": [],
   "source": [
    "kfolds = 5\n",
    "batch_size = len(training_data_batches[0][0])\n",
    "validation_data_percentage = 0.2"
   ]
  },
  {
   "cell_type": "code",
   "execution_count": 29,
   "metadata": {
    "colab": {
     "base_uri": "https://localhost:8080/",
     "height": 1000
    },
    "id": "iJFfEa2F4JiN",
    "outputId": "58e59a96-d661-4acb-ab26-4cc3d03323a1"
   },
   "outputs": [
    {
     "name": "stdout",
     "output_type": "stream",
     "text": [
      "\n",
      "Batch: 1\n",
      " Epoch: 0, training loss: 1.09\n",
      " Epoch: 500, training loss: 1.03\n",
      " Epoch: 1000, training loss: 0.99\n",
      " Epoch: 1500, training loss: 0.98\n",
      " Epoch: 2000, training loss: 0.98\n",
      " Epoch: 2500, training loss: 0.98\n",
      " Epoch: 3000, training loss: 0.98\n",
      " Epoch: 3500, training loss: 0.98\n",
      " Epoch: 4000, training loss: 0.98\n",
      " Epoch: 4500, training loss: 0.98\n",
      " Epoch: 5000, training loss: 0.98\n",
      " Epoch: 5500, training loss: 0.98\n",
      " Epoch: 6000, training loss: 0.98\n",
      " Epoch: 6500, training loss: 0.98\n",
      " Epoch: 7000, training loss: 0.98\n",
      " Epoch: 7500, training loss: 0.98\n",
      " Epoch: 8000, training loss: 0.98\n",
      " Epoch: 8500, training loss: 0.98\n",
      " Epoch: 9000, training loss: 0.98\n",
      " Epoch: 9500, training loss: 0.98\n",
      " Epoch: 10000, training loss: 0.98\n",
      "\n",
      "Batch 1 Accuracy: 0.54, batch validation loss: 0.97\n",
      "\n",
      "Batch: 2\n",
      " Epoch: 0, training loss: 0.98\n",
      " Epoch: 500, training loss: 0.98\n",
      " Epoch: 1000, training loss: 0.98\n",
      " Epoch: 1500, training loss: 0.98\n",
      " Epoch: 2000, training loss: 0.98\n",
      " Epoch: 2500, training loss: 0.98\n",
      " Epoch: 3000, training loss: 0.98\n",
      " Epoch: 3500, training loss: 0.98\n",
      " Epoch: 4000, training loss: 0.98\n",
      " Epoch: 4500, training loss: 0.98\n",
      " Epoch: 5000, training loss: 0.98\n",
      " Epoch: 5500, training loss: 0.98\n",
      " Epoch: 6000, training loss: 0.98\n",
      " Epoch: 6500, training loss: 0.98\n",
      " Epoch: 7000, training loss: 0.98\n",
      " Epoch: 7500, training loss: 0.98\n",
      " Epoch: 8000, training loss: 0.98\n",
      " Epoch: 8500, training loss: 0.98\n",
      " Epoch: 9000, training loss: 0.98\n",
      " Epoch: 9500, training loss: 0.98\n",
      " Epoch: 10000, training loss: 0.98\n",
      "\n",
      "Batch 2 Accuracy: 0.51, batch validation loss: 0.99\n",
      "\n",
      "Batch: 3\n",
      " Epoch: 0, training loss: 0.99\n",
      " Epoch: 500, training loss: 0.99\n",
      " Epoch: 1000, training loss: 0.99\n",
      " Epoch: 1500, training loss: 0.99\n",
      " Epoch: 2000, training loss: 0.99\n",
      " Epoch: 2500, training loss: 0.99\n",
      " Epoch: 3000, training loss: 0.99\n",
      " Epoch: 3500, training loss: 0.99\n",
      " Epoch: 4000, training loss: 0.99\n",
      " Epoch: 4500, training loss: 0.99\n",
      " Epoch: 5000, training loss: 0.99\n",
      " Epoch: 5500, training loss: 0.99\n",
      " Epoch: 6000, training loss: 0.99\n",
      " Epoch: 6500, training loss: 0.99\n",
      " Epoch: 7000, training loss: 0.99\n",
      " Epoch: 7500, training loss: 0.99\n",
      " Epoch: 8000, training loss: 0.99\n",
      " Epoch: 8500, training loss: 0.99\n",
      " Epoch: 9000, training loss: 0.99\n",
      " Epoch: 9500, training loss: 0.99\n",
      " Epoch: 10000, training loss: 0.99\n",
      "\n",
      "Batch 3 Accuracy: 0.52, batch validation loss: 0.99\n",
      "\n",
      "Batch: 4\n",
      " Epoch: 0, training loss: 0.98\n",
      " Epoch: 500, training loss: 0.97\n",
      " Epoch: 1000, training loss: 0.97\n",
      " Epoch: 1500, training loss: 0.97\n",
      " Epoch: 2000, training loss: 0.97\n",
      " Epoch: 2500, training loss: 0.97\n",
      " Epoch: 3000, training loss: 0.97\n",
      " Epoch: 3500, training loss: 0.97\n",
      " Epoch: 4000, training loss: 0.97\n",
      " Epoch: 4500, training loss: 0.97\n",
      " Epoch: 5000, training loss: 0.97\n",
      " Epoch: 5500, training loss: 0.97\n",
      " Epoch: 6000, training loss: 0.97\n",
      " Epoch: 6500, training loss: 0.97\n",
      " Epoch: 7000, training loss: 0.97\n",
      " Epoch: 7500, training loss: 0.97\n",
      " Epoch: 8000, training loss: 0.97\n",
      " Epoch: 8500, training loss: 0.97\n",
      " Epoch: 9000, training loss: 0.97\n",
      " Epoch: 9500, training loss: 0.97\n",
      " Epoch: 10000, training loss: 0.97\n",
      "\n",
      "Batch 4 Accuracy: 0.53, batch validation loss: 0.99\n",
      "\n",
      "Batch: 5\n",
      " Epoch: 0, training loss: 0.99\n",
      " Epoch: 500, training loss: 0.98\n",
      " Epoch: 1000, training loss: 0.98\n",
      " Epoch: 1500, training loss: 0.98\n",
      " Epoch: 2000, training loss: 0.98\n",
      " Epoch: 2500, training loss: 0.98\n",
      " Epoch: 3000, training loss: 0.98\n",
      " Epoch: 3500, training loss: 0.98\n",
      " Epoch: 4000, training loss: 0.98\n",
      " Epoch: 4500, training loss: 0.98\n",
      " Epoch: 5000, training loss: 0.98\n",
      " Epoch: 5500, training loss: 0.98\n",
      " Epoch: 6000, training loss: 0.98\n",
      " Epoch: 6500, training loss: 0.98\n",
      " Epoch: 7000, training loss: 0.98\n",
      " Epoch: 7500, training loss: 0.98\n",
      " Epoch: 8000, training loss: 0.98\n",
      " Epoch: 8500, training loss: 0.98\n",
      " Epoch: 9000, training loss: 0.98\n",
      " Epoch: 9500, training loss: 0.98\n",
      " Epoch: 10000, training loss: 0.98\n",
      "\n",
      "Batch 5 Accuracy: 0.52, batch validation loss: 0.99\n",
      "\n",
      "Accuracy: 0.53, trainig loss: 0.98, validation loss: 0.99\n"
     ]
    },
    {
     "data": {
      "image/png": "[encoded data removed]",
      "text/plain": [
       "<Figure size 432x288 with 1 Axes>"
      ]
     },
     "metadata": {
      "needs_background": "light"
     },
     "output_type": "display_data"
    },
    {
     "data": {
      "image/png": "[encoded data removed]",
      "text/plain": [
       "<Figure size 432x288 with 1 Axes>"
      ]
     },
     "metadata": {
      "needs_background": "light"
     },
     "output_type": "display_data"
    }
   ],
   "source": [
    "model.apply(model.init_linear)\n",
    "training_loss, validation_loss, accuracy = [], [], [] \n",
    "for k in range(kfolds):\n",
    "    # Block Cross Validation\n",
    "    training_data, labels = training_data_batches[k]\n",
    "    training_data = torch.stack(training_data)\n",
    "    labels = torch.stack(labels)\n",
    "    \n",
    "    # Split Training/Validation Data\n",
    "    training_batch_size = int(training_data.shape[0] * (1.0 - validation_data_percentage))\n",
    "\n",
    "    training_data_fold = training_data[:training_batch_size, :, :].to(device)\n",
    "    validation_data_fold = training_data[training_batch_size:, :, :].to(device)\n",
    "\n",
    "    training_labels_fold = labels[:training_batch_size, :].to(device)\n",
    "    validation_labels_fold = labels[training_batch_size:, :].to(device)\n",
    "\n",
    "    # training on training dataset\n",
    "    print(\"\\nBatch: %d\" % (k+1))\n",
    "    model.train()\n",
    "    for epoch in range(epochs):\n",
    "        model.zero_grad()\n",
    "        h = model.init_hidden(training_batch_size)\n",
    "        output = model(training_data_fold, h)\n",
    "        loss = criterion(output, training_labels_fold)\n",
    "        loss.backward()\n",
    "        nn.utils.clip_grad_norm_(model.parameters(), clip) # gradient clipping\n",
    "        optimizer.step()\n",
    "  \n",
    "        if epoch % 500 == 0:\n",
    "            print(\" Epoch: %d, training loss: %1.2f\" % (epoch, loss.item()))\n",
    "\n",
    "    training_loss.append(loss.item())\n",
    "\n",
    "    # validation on training dataset\n",
    "    validation_batch_size = validation_data_fold.shape[0]\n",
    "    model.eval()\n",
    "    validation_loss_batch, accuracy_batch = 0.0, 0.0\n",
    "    with torch.no_grad():\n",
    "        h = model.init_hidden(validation_batch_size)\n",
    "        prediction = model(validation_data_fold, h)\n",
    "        validation_loss_batch = criterion(prediction, validation_labels_fold).item()\n",
    "        accuracy_batch = ((torch.argmax(prediction, dim=1) == torch.argmax(validation_labels_fold, dim=1)).type(torch.float).sum()) / validation_batch_size\n",
    "    print(\"\\nBatch %d Accuracy: %1.2f, batch validation loss: %1.2f\" % (k+1, accuracy_batch, validation_loss_batch))\n",
    "\n",
    "    validation_loss.append(validation_loss_batch)\n",
    "    accuracy.append(accuracy_batch.cpu())\n",
    "training_loss_avg = sum(training_loss) / kfolds\n",
    "validation_loss_avg = sum(validation_loss) / kfolds\n",
    "accuracy_avg = sum(accuracy) / kfolds\n",
    "print(\"\\nAccuracy: %1.2f, trainig loss: %1.2f, validation loss: %1.2f\" % (accuracy_avg, training_loss_avg, validation_loss_avg))\n",
    "plot_training_validation_loss(training_loss, validation_loss)\n",
    "plot_accuracy(accuracy)"
   ]
  }
 ],
 "metadata": {
  "accelerator": "GPU",
  "colab": {
   "collapsed_sections": [],
   "name": "LSTM.ipynb",
   "provenance": []
  },
  "kernelspec": {
   "display_name": "Python 3",
   "language": "python",
   "name": "python3"
  },
  "language_info": {
   "codemirror_mode": {
    "name": "ipython",
    "version": 3
   },
   "file_extension": ".py",
   "mimetype": "text/x-python",
   "name": "python",
   "nbconvert_exporter": "python",
   "pygments_lexer": "ipython3",
   "version": "3.8.5"
  }
 },
 "nbformat": 4,
 "nbformat_minor": 1
}
